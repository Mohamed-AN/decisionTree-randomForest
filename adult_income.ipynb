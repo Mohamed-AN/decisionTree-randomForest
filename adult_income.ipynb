{
 "cells": [
  {
   "cell_type": "markdown",
   "metadata": {},
   "source": [
    "# `0.` IMPORTING REQUIRED LIBs"
   ]
  },
  {
   "cell_type": "code",
   "execution_count": 1,
   "metadata": {},
   "outputs": [
    {
     "name": "stderr",
     "output_type": "stream",
     "text": [
      "C:\\anaconda3\\envs\\linalgenv\\lib\\site-packages\\statsmodels\\tsa\\base\\tsa_model.py:7: FutureWarning: pandas.Int64Index is deprecated and will be removed from pandas in a future version. Use pandas.Index with the appropriate dtype instead.\n",
      "  from pandas import (to_datetime, Int64Index, DatetimeIndex, Period,\n",
      "C:\\anaconda3\\envs\\linalgenv\\lib\\site-packages\\statsmodels\\tsa\\base\\tsa_model.py:7: FutureWarning: pandas.Float64Index is deprecated and will be removed from pandas in a future version. Use pandas.Index with the appropriate dtype instead.\n",
      "  from pandas import (to_datetime, Int64Index, DatetimeIndex, Period,\n"
     ]
    }
   ],
   "source": [
    "# base libariries \n",
    "import numpy as np\n",
    "import pandas as pd\n",
    "import matplotlib.pyplot as plt\n",
    "from scipy.stats import shapiro\n",
    "\n",
    "# statistics\n",
    "import statsmodels.api as sm\n",
    "\n",
    "# preprocessing libariries\n",
    "from sklearn.preprocessing import MinMaxScaler\n",
    "from sklearn.preprocessing import StandardScaler\n",
    "from sklearn.preprocessing import LabelEncoder\n",
    "\n",
    "# splitting helper\n",
    "from sklearn.model_selection import train_test_split\n",
    "\n",
    "# models\n",
    "from sklearn.tree import DecisionTreeClassifier\n",
    "from sklearn.ensemble import RandomForestClassifier\n",
    "from sklearn.neighbors import KNeighborsClassifier\n",
    "\n",
    "# draw tree\n",
    "from sklearn import tree\n",
    "\n",
    "# evaluation metric\n",
    "from sklearn.metrics import confusion_matrix\n",
    "from sklearn.metrics import accuracy_score\n",
    "from sklearn.metrics import f1_score\n",
    "\n",
    "# warnings\n",
    "import warnings\n",
    "warnings.filterwarnings(\"ignore\")"
   ]
  },
  {
   "cell_type": "markdown",
   "metadata": {},
   "source": [
    "# `1.` HELPER FUNCTIONS"
   ]
  },
  {
   "cell_type": "code",
   "execution_count": 2,
   "metadata": {},
   "outputs": [],
   "source": [
    "# function to get the updated numerical columns\n",
    "def get_numeric(features_df):\n",
    "    return [c for c, dt in zip(features_df.dtypes.index, features_df.dtypes.values) if np.issubdtype(dt, np.number)]"
   ]
  },
  {
   "cell_type": "markdown",
   "metadata": {},
   "source": [
    "#### `1.0` Handling duplicates"
   ]
  },
  {
   "cell_type": "code",
   "execution_count": 3,
   "metadata": {},
   "outputs": [],
   "source": [
    "def handle_duplicates(features_df, dup_threshold):\n",
    "    # data shape\n",
    "    observations_num = features_df.shape[0]\n",
    "\n",
    "    cols_to_be_dropped = []\n",
    "    for c in features_df.columns:\n",
    "        if (features_df[c].value_counts()/observations_num > dup_threshold).sum():\n",
    "            cols_to_be_dropped.append(c)\n",
    "            \n",
    "    return cols_to_be_dropped"
   ]
  },
  {
   "cell_type": "code",
   "execution_count": 4,
   "metadata": {},
   "outputs": [],
   "source": [
    "def drop_duplicates(features_df, cols_to_be_dropped):\n",
    "    features_df.drop(columns=cols_to_be_dropped, inplace=True)\n",
    "\n",
    "    return None"
   ]
  },
  {
   "cell_type": "markdown",
   "metadata": {},
   "source": [
    "#### `1.1` Handling outliers"
   ]
  },
  {
   "cell_type": "code",
   "execution_count": 5,
   "metadata": {},
   "outputs": [],
   "source": [
    "def handle_outliers(features_df, out_threshold):\n",
    "    numeric = get_numeric(features_df) \n",
    "    Q1 = np.quantile(features_df[numeric], q=0.25, method='midpoint', axis=0)\n",
    "    Q3 = np.quantile(features_df[numeric], q=0.75, method='midpoint', axis=0)\n",
    "\n",
    "    IQR = Q3 - Q1\n",
    "    upper_bound = Q3 + out_threshold * IQR\n",
    "    lower_bound = Q1 - out_threshold * IQR\n",
    "\n",
    "    return lower_bound, upper_bound"
   ]
  },
  {
   "cell_type": "code",
   "execution_count": 6,
   "metadata": {},
   "outputs": [],
   "source": [
    "def outliers_clamping(features_df, lower_bound, upper_bound):\n",
    "    numeric = get_numeric(features_df)\n",
    "    num_of_features = numeric.__len__()\n",
    "    \n",
    "    for i in range(num_of_features):\n",
    "        before = features_df[numeric[i]]\n",
    "        features_df[numeric[i]] = np.where(features_df[numeric[i]] <= upper_bound[i], features_df[numeric[i]], upper_bound[i])\n",
    "        features_df[numeric[i]] = np.where(features_df[numeric[i]] >= lower_bound[i], features_df[numeric[i]], lower_bound[i])\n",
    "        after = features_df[numeric[i]]\n",
    "        print(f'shape = {features_df.shape[0]}, total matched {(before == after).sum()}')"
   ]
  },
  {
   "cell_type": "markdown",
   "metadata": {},
   "source": [
    "#### `1.2` Handling skewness"
   ]
  },
  {
   "cell_type": "code",
   "execution_count": 7,
   "metadata": {},
   "outputs": [],
   "source": [
    "def skewness(features_df):\n",
    "    # data shape\n",
    "    observations_num = features_df.shape[0]\n",
    "    \n",
    "    numeric = get_numeric(features_df)\n",
    "\n",
    "    numenator = np.sum(np.power(features_df[numeric] - features_df[numeric].mean(axis=0), 3), axis=0) * observations_num\n",
    "    denumenator = np.power(features_df[numeric].std(axis=0), 3) * (observations_num - 1) * (observations_num - 2)\n",
    "    sk_coeff = (numenator/denumenator).reset_index().rename(columns={0: 'sk_coef'})\n",
    "    \n",
    "    print(f\"*SK_coeff: {sk_coeff}\")\n",
    "    final = list(set(sk_coeff[sk_coeff['sk_coef']>=1]['index']).union(set(sk_coeff[sk_coeff['sk_coef']<=-1]['index'])))\n",
    "\n",
    "    return final"
   ]
  },
  {
   "cell_type": "code",
   "execution_count": 8,
   "metadata": {},
   "outputs": [],
   "source": [
    "def handle_skewness(features_df, cols_to_be_transformed):\n",
    "    features_df[cols_to_be_transformed] = np.log(np.abs(features_df[cols_to_be_transformed]) + 1)\n",
    "        \n",
    "    return None"
   ]
  },
  {
   "cell_type": "markdown",
   "metadata": {},
   "source": [
    "#### `1.3` Checking normal distribution"
   ]
  },
  {
   "cell_type": "code",
   "execution_count": 9,
   "metadata": {},
   "outputs": [],
   "source": [
    "def normality_test(features_df, shapiro_alpha):\n",
    "    sample_df = features_df.sample(replace=False, n=2000)\n",
    "    numeric = get_numeric(sample_df)\n",
    "    \n",
    "    feats_std_scale = []\n",
    "    feats_min_max_scale = []\n",
    "\n",
    "    for col in numeric:\n",
    "        stat, p = shapiro(sample_df[col])\n",
    "        print('* W_Statistic=%.3f, p=%.8f' % (stat, p))\n",
    "\n",
    "        if p > shapiro_alpha:\n",
    "            print(f'  {col} looks like gaussian (fail to reject H0)')\n",
    "            feats_std_scale.append(col)\n",
    "        else:\n",
    "            print(f'  {col} does not look Gaussian (reject H0)')\n",
    "            feats_min_max_scale.append(col)\n",
    "\n",
    "    return feats_min_max_scale, feats_std_scale"
   ]
  },
  {
   "cell_type": "code",
   "execution_count": 10,
   "metadata": {},
   "outputs": [],
   "source": [
    "def qq_plot(features_df, ncols=4, fig_size=(20, 20)):\n",
    "    numeric = get_numeric(features_df)\n",
    "    features_num = numeric.__len__()\n",
    "    \n",
    "    # number of cols and rows \n",
    "    nrows = features_num//ncols\n",
    "    if features_num%ncols:\n",
    "        nrows += 1\n",
    "        \n",
    "    # ploting\n",
    "    fig, axes = plt.subplots(nrows=nrows, ncols=ncols, figsize=fig_size)\n",
    "    for r in range(nrows):\n",
    "        for c in range(ncols):\n",
    "            if ncols*r+c < features_num:\n",
    "                sm.qqplot(features_df[numeric[ncols*r+c]], fit=False, line='q', ax=axes[r, c])\n",
    "                axes[r, c].set_title(numeric[ncols*r+c])\n",
    "                \n",
    "    plt.tight_layout()\n",
    "    plt.show()"
   ]
  },
  {
   "cell_type": "markdown",
   "metadata": {},
   "source": [
    "#### `1.4` Features scaling"
   ]
  },
  {
   "cell_type": "code",
   "execution_count": 11,
   "metadata": {},
   "outputs": [],
   "source": [
    "def features_scaling(X_train_, X_val_, feats_min_max, feats_std):\n",
    "    print(f'* Number of features needs min_max = {len(feats_min_max)}, std = {len(feats_std)} according to shapiro-test.')\n",
    "\n",
    "    flag = 0\n",
    "\n",
    "    try:\n",
    "        # model\n",
    "        min_max_scaler = MinMaxScaler()\n",
    "        min_max_scaler.fit(X_train_[feats_min_max])\n",
    "\n",
    "        # transform\n",
    "        X_train_min_max = pd.DataFrame(min_max_scaler.transform(X_train_[feats_min_max]), columns=feats_min_max, index=X_train_[feats_min_max].index)\n",
    "        X_val_min_max = pd.DataFrame(min_max_scaler.transform(X_val_[feats_min_max]), columns=feats_min_max, index=X_val_[feats_min_max].index)\n",
    "    except:\n",
    "        flag = 1\n",
    "        print(\"* All features follows gaussian distribution according to shapiro-test, standard scalling used.\")\n",
    "\n",
    "    try:\n",
    "        # model\n",
    "        std_scaler = StandardScaler()\n",
    "        std_scaler.fit(X_train_[feats_std])\n",
    "\n",
    "        # transform\n",
    "        X_train_std = pd.DataFrame(std_scaler.transform(X_train_[feats_std]), columns=feats_std, index=X_train_[feats_min_max].index)\n",
    "        X_val_std = pd.DataFrame(std_scaler.transform(X_val_[feats_std]), columns=feats_std, index=X_val_[feats_min_max].index)\n",
    "    except:\n",
    "        flag = 2\n",
    "        print(\"* All features did not follow gaussian distribution according to shapiro-test, min-max scalling used.\")\n",
    "    \n",
    "    # merge\n",
    "    if not flag:\n",
    "        X_train_scaled = X_train_std.merge(X_train_min_max, right_index=True, left_index=True, how='inner')\n",
    "        X_val_scaled = X_val_std.merge(X_val_min_max, right_index=True, left_index=True, how='inner')\n",
    "    elif flag == 1:\n",
    "        X_train_scaled = X_train_std\n",
    "        X_val_scaled = X_val_std\n",
    "    else:\n",
    "        X_train_scaled = X_train_min_max\n",
    "        X_val_scaled = X_val_min_max\n",
    "        \n",
    "    return X_train_scaled, X_val_scaled"
   ]
  },
  {
   "cell_type": "markdown",
   "metadata": {},
   "source": [
    "#### `1.5` Features encoding"
   ]
  },
  {
   "cell_type": "code",
   "execution_count": 12,
   "metadata": {},
   "outputs": [],
   "source": [
    "def label_encoding(X_train_, X_val_, label_cats):\n",
    "    labeled_train_df = pd.DataFrame(columns=X_train_[label_cats].columns, index=X_train_[label_cats].index)\n",
    "    labeled_val_df = pd.DataFrame(columns=X_val_[label_cats].columns, index=X_val_[label_cats].index)\n",
    "    \n",
    "    label_enc = LabelEncoder()\n",
    "    for feat in label_cats:\n",
    "        label_enc_model = LabelEncoder()\n",
    "        label_enc.fit(X_train_[feat])\n",
    "        labeled_train_df[feat] = label_enc.transform(X_train_[feat])\n",
    "        labeled_val_df[feat] = label_enc.transform(X_val_[feat])\n",
    "        \n",
    "    return labeled_train_df, labeled_val_df"
   ]
  },
  {
   "cell_type": "markdown",
   "metadata": {},
   "source": [
    "#### `1.6` Handle - ? - symbol"
   ]
  },
  {
   "cell_type": "code",
   "execution_count": 13,
   "metadata": {},
   "outputs": [],
   "source": [
    "def handle_cat_question_mark(features_df, df_mode):\n",
    "    cat_cols = list(set(features_df.columns) - set(get_numeric(features_df)))\n",
    "    features_df[cat_cols] = np.where(features_df[cat_cols]=='?', df_mode, features_df[cat_cols])\n",
    "    return None"
   ]
  },
  {
   "cell_type": "code",
   "execution_count": 14,
   "metadata": {},
   "outputs": [],
   "source": [
    "def get_cat_mode(features_df):\n",
    "    cat_cols = list(set(features_df.columns) - set(get_numeric(features_df)))\n",
    "    return features_df[cat_cols].mode()"
   ]
  },
  {
   "cell_type": "markdown",
   "metadata": {},
   "source": [
    "# `2.` DATA-PREPROCESSING FUNCTION"
   ]
  },
  {
   "cell_type": "code",
   "execution_count": 15,
   "metadata": {},
   "outputs": [],
   "source": [
    "def data_preprocessing(X_train_df, y_train_df, X_val_df, y_val_df, out_threshold, \n",
    "                       shapiro_threshold, dup_threshold, clamp=True, skew=True, scale=True):\n",
    "    \n",
    "    # b) Drops any column which has 80% of values with the same value\n",
    "    duplicated_cols_to_be_dropped = handle_duplicates(X_train_df, dup_threshold)\n",
    "    drop_duplicates(X_train_df, duplicated_cols_to_be_dropped)\n",
    "    drop_duplicates(X_val_df, duplicated_cols_to_be_dropped)\n",
    "    \n",
    "    # a) handle question mark sylmbol in our data replacing it with >> mode\n",
    "    cat_mode = get_cat_mode(X_train_df)\n",
    "    handle_cat_question_mark(X_train_df, cat_mode) \n",
    "    handle_cat_question_mark(X_val_df, cat_mode)\n",
    "    \n",
    "    # c) Clamps the outliers\n",
    "    if clamp:\n",
    "        lower_bounds, upper_bounds = handle_outliers(X_train_df, out_threshold)\n",
    "        outliers_clamping(X_train_df, lower_bounds, upper_bounds)\n",
    "        outliers_clamping(X_val_df, lower_bounds, upper_bounds)\n",
    "    \n",
    "    # d) Log-transforms any highly skewed variable\n",
    "    if skew:\n",
    "        cols_to_be_transformed = skewness(X_train_df)\n",
    "        handle_skewness(X_train_df, cols_to_be_transformed)\n",
    "        handle_skewness(X_val_df, cols_to_be_transformed)\n",
    "        \n",
    "    # e, f) Min-max scale -> non-gaussian features, and standardize -> gaussian features, Shapiro-Wilk test with alpha = 0.01\n",
    "    if scale:\n",
    "        print(\"########################################################## Q-Q PLOT ##########################################################\")\n",
    "        qq_plot(X_train_df, 3, (20, 10))\n",
    "        print(\"##############################################################################################################################\")\n",
    "        min_max_feats, std_feats = normality_test(X_train_df, shapiro_threshold)\n",
    "        X_train_scaled, X_val_scaled = features_scaling(X_train_df, X_val_df, min_max_feats, std_feats)\n",
    "\n",
    "    # g) label encoding for categorical features\n",
    "    label_cats = list(set(X_train_df.columns) - set(get_numeric(X_train_df)))\n",
    "    X_train_cat, X_val_cat = label_encoding(X_train_df, X_val_df, label_cats)\n",
    "\n",
    "    # h) Merges the pre-processed categorical and numerical data\n",
    "    if scale:\n",
    "        X_train_final = X_train_cat.merge(X_train_scaled, right_index=True, left_index=True, how='inner')\n",
    "        X_val_final = X_val_cat.merge(X_val_scaled, right_index=True, left_index=True, how='inner')\n",
    "    else:\n",
    "        X_train_df.drop(columns=label_cats, inplace=True)\n",
    "        X_val_df.drop(columns=label_cats, inplace=True)\n",
    "        X_train_final = X_train_cat.merge(X_train_df, right_index=True, left_index=True, how='inner')\n",
    "        X_val_final = X_val_cat.merge(X_val_df, right_index=True, left_index=True, how='inner')\n",
    "    \n",
    "    return X_train_final, X_val_final"
   ]
  },
  {
   "cell_type": "markdown",
   "metadata": {},
   "source": [
    "# `3.` MODELS MANIPULATION"
   ]
  },
  {
   "cell_type": "code",
   "execution_count": 16,
   "metadata": {},
   "outputs": [],
   "source": [
    "def create_decision_tree_model(X_train_df, y_train_df, ma_depth_=None, mi_s_split_=None, mi_s_leaf_=None, ma_features_=None, ma_l_nodes=None, c_alpha=None, default=False):\n",
    "    if default:\n",
    "        model = DecisionTreeClassifier(class_weight='balanced', random_state=2022)\n",
    "    else:\n",
    "        model = DecisionTreeClassifier(max_depth=ma_depth_, min_samples_split=mi_s_split_, \n",
    "                               min_samples_leaf=mi_s_leaf_, max_features=ma_features_, \n",
    "                               max_leaf_nodes=ma_l_nodes, ccp_alpha=c_alpha, class_weight='balanced',\n",
    "                               random_state=2022)\n",
    "    model.fit(X_train_df, y_train_df)\n",
    "        \n",
    "    return model"
   ]
  },
  {
   "cell_type": "markdown",
   "metadata": {},
   "source": [
    "### `3.0` Metrics used in classification "
   ]
  },
  {
   "cell_type": "markdown",
   "metadata": {},
   "source": [
    "$$ precision = \\dfrac{TP}{TP + FP} $$"
   ]
  },
  {
   "cell_type": "markdown",
   "metadata": {},
   "source": [
    "$$ recall = \\dfrac{TP}{TP + FN} $$ "
   ]
  },
  {
   "cell_type": "markdown",
   "metadata": {},
   "source": [
    "$$ F_{1_{score}} = 2\\times\\dfrac{precision \\times recall}{precision + recall} $$ "
   ]
  },
  {
   "cell_type": "code",
   "execution_count": 17,
   "metadata": {},
   "outputs": [],
   "source": [
    "def evaluate_decision_tree_model(y_val_, X_val_, model):\n",
    "    # predicte validation labels\n",
    "    predicted = model.predict(X_val_)\n",
    "        \n",
    "    # create confusion matrix and sum its axises\n",
    "    conf_matrix = pd.DataFrame(confusion_matrix(y_val_, predicted), index=['actual <=50K', 'actual >50K']).rename(columns={0: 'predicted <=50K', 1: 'predicted >50K'})\n",
    "    #print(conf_matrix)\n",
    "    predicted_le_50K, predicted_g_50K = conf_matrix.sum(axis=0)\n",
    "    actual_le_50K, actual_g_50K = conf_matrix.sum(axis=1)\n",
    "\n",
    "    # precision\n",
    "    precision_le_50K = conf_matrix.iloc[0, 0]/predicted_le_50K\n",
    "    precision_g_50K = conf_matrix.iloc[1, 1]/predicted_g_50K\n",
    "        \n",
    "    # recal\n",
    "    recall_le_50K = conf_matrix.iloc[0, 0]/actual_le_50K\n",
    "    recall_g_50K = conf_matrix.iloc[1, 1]/actual_g_50K\n",
    "\n",
    "    # F1-Score\n",
    "    f1_score_le_50K = 2 * ((precision_le_50K * recall_le_50K)/(precision_le_50K + recall_le_50K))\n",
    "    f1_score_g_50K = 2 * ((precision_g_50K * recall_g_50K)/(precision_g_50K + recall_g_50K))\n",
    "    \n",
    "    metrics_df = pd.DataFrame(columns=['precision_le', 'precision_g', \n",
    "                                       'recall_le', 'recall_g',\n",
    "                                       'f1_score_le', 'f1_score_g'\n",
    "                                      ])\n",
    "    \n",
    "    metrics_df.loc[0] = [precision_le_50K, precision_g_50K, \n",
    "                         recall_le_50K, recall_g_50K,\n",
    "                         f1_score_le_50K, f1_score_g_50K]\n",
    "    \n",
    "    return metrics_df"
   ]
  },
  {
   "cell_type": "code",
   "execution_count": 18,
   "metadata": {},
   "outputs": [],
   "source": [
    "def evaluate_trees_models(y_val_, X_val_, models, model_type=None):\n",
    "    n_estimators_list = []\n",
    "    max_depth_list = []\n",
    "    min_samples_split_list = []\n",
    "    min_samples_leaf_list = []\n",
    "    max_features_list = []\n",
    "    max_leaf_nodes_list = []\n",
    "    c_alpha_list = []\n",
    "    \n",
    "    precision_le = []\n",
    "    precision_g = []\n",
    "    recall_le = []\n",
    "    recall_g = []\n",
    "    f1_score_le = []\n",
    "    f1_score_g = []\n",
    "    \n",
    "    for model in models:\n",
    "        # predicte validation labels\n",
    "        predicted = model.predict(X_val_)\n",
    "        \n",
    "        # create confusion matrix and sum its axises\n",
    "        conf_matrix = pd.DataFrame(confusion_matrix(y_val_, predicted), index=['actual <=50K', 'actual >50K']).rename(columns={0: 'predicted <=50K', 1: 'predicted >50K'})\n",
    "        predicted_le_50K, predicted_g_50K = conf_matrix.sum(axis=0)\n",
    "        actual_le_50K, actual_g_50K = conf_matrix.sum(axis=1)\n",
    "\n",
    "        # precision\n",
    "        precision_le_50K = conf_matrix.iloc[0, 0]/predicted_le_50K\n",
    "        precision_g_50K = conf_matrix.iloc[1, 1]/predicted_g_50K\n",
    "        \n",
    "        # recal\n",
    "        recall_le_50K = conf_matrix.iloc[0, 0]/actual_le_50K\n",
    "        recall_g_50K = conf_matrix.iloc[1, 1]/actual_g_50K\n",
    "\n",
    "        # F1-Score\n",
    "        f1_score_le_50K = 2 * ((precision_le_50K * recall_le_50K)/(precision_le_50K + recall_le_50K))\n",
    "        f1_score_g_50K = 2 * ((precision_g_50K * recall_g_50K)/(precision_g_50K + recall_g_50K))\n",
    "        \n",
    "        # saving our metrics for each model\n",
    "        max_depth_list.append(model.max_depth)\n",
    "        min_samples_split_list.append(model.min_samples_split)\n",
    "        min_samples_leaf_list.append(model.min_samples_leaf)\n",
    "        max_features_list.append(model.max_features)\n",
    "        max_leaf_nodes_list.append(model.max_leaf_nodes)\n",
    "        c_alpha_list.append(model.ccp_alpha)\n",
    "        \n",
    "        precision_le.append(precision_le_50K)\n",
    "        precision_g.append(precision_g_50K)\n",
    "        recall_le.append(recall_le_50K)\n",
    "        recall_g.append(recall_g_50K)\n",
    "        f1_score_le.append(f1_score_le_50K)\n",
    "        f1_score_g.append(f1_score_g_50K)\n",
    "        \n",
    "        if model_type=='random':\n",
    "            n_estimators_list.append(model.n_estimators)\n",
    "        \n",
    "    metrics_dict = {\n",
    "                    'depth': max_depth_list,\n",
    "                    'sample_split': min_samples_split_list,\n",
    "                    'sample_leaf': min_samples_leaf_list,\n",
    "                    'features': max_features_list,\n",
    "                    'leaf_nodes': max_leaf_nodes_list,\n",
    "                    'ccp_alpha': c_alpha_list,\n",
    "                    'precision_le': precision_le,\n",
    "                    'recall_le': recall_le,\n",
    "                    'f1_le': f1_score_le,\n",
    "                    'precision_g': precision_g,\n",
    "                    'recall_g': recall_g,\n",
    "                    'f1_g': f1_score_g\n",
    "                   }\n",
    "    \n",
    "    if model_type=='random':\n",
    "        metrics_dict['n_estimators'] = n_estimators_list\n",
    "    \n",
    "    return pd.DataFrame(metrics_dict)"
   ]
  },
  {
   "cell_type": "code",
   "execution_count": 19,
   "metadata": {},
   "outputs": [],
   "source": [
    "def evaluate_knn_models(y_val_, X_val_, models):\n",
    "    p_values_list = []\n",
    "    n_neighbors_list = []\n",
    "    weights_list = []\n",
    "    \n",
    "    precision_le = []\n",
    "    precision_g = []\n",
    "    recall_le = []\n",
    "    recall_g = []\n",
    "    f1_score_le = []\n",
    "    f1_score_g = []\n",
    "    \n",
    "    for model in models:\n",
    "        # predicte validation labels\n",
    "        predicted = model.predict(X_val_)\n",
    "        \n",
    "        # create confusion matrix and sum its axises\n",
    "        conf_matrix = pd.DataFrame(confusion_matrix(y_val_, predicted), index=['actual <=50K', 'actual >50K']).rename(columns={0: 'predicted <=50K', 1: 'predicted >50K'})\n",
    "        predicted_le_50K, predicted_g_50K = conf_matrix.sum(axis=0)\n",
    "        actual_le_50K, actual_g_50K = conf_matrix.sum(axis=1)\n",
    "\n",
    "        # precision\n",
    "        precision_le_50K = conf_matrix.iloc[0, 0]/predicted_le_50K\n",
    "        precision_g_50K = conf_matrix.iloc[1, 1]/predicted_g_50K\n",
    "        \n",
    "        # recal\n",
    "        recall_le_50K = conf_matrix.iloc[0, 0]/actual_le_50K\n",
    "        recall_g_50K = conf_matrix.iloc[1, 1]/actual_g_50K\n",
    "\n",
    "        # F1-Score\n",
    "        f1_score_le_50K = 2 * ((precision_le_50K * recall_le_50K)/(precision_le_50K + recall_le_50K))\n",
    "        f1_score_g_50K = 2 * ((precision_g_50K * recall_g_50K)/(precision_g_50K + recall_g_50K))\n",
    "        \n",
    "        # saving our metrics for each model\n",
    "        p_values_list.append(model.p)\n",
    "        n_neighbors_list.append(model.n_neighbors)\n",
    "        weights_list.append(model.weights)\n",
    "        \n",
    "        precision_le.append(precision_le_50K)\n",
    "        precision_g.append(precision_g_50K)\n",
    "        recall_le.append(recall_le_50K)\n",
    "        recall_g.append(recall_g_50K)\n",
    "        f1_score_le.append(f1_score_le_50K)\n",
    "        f1_score_g.append(f1_score_g_50K)\n",
    "        \n",
    "    metrics_dict = {\n",
    "                    'p': p_values_list,\n",
    "                    'n_neighbors': n_neighbors_list,\n",
    "                    'weight': weights_list,\n",
    "                    'precision_le': precision_le,\n",
    "                    'recall_le': recall_le,\n",
    "                    'f1_le': f1_score_le,\n",
    "                    'precision_g': precision_g,\n",
    "                    'recall_g': recall_g,\n",
    "                    'f1_g': f1_score_g\n",
    "                   }\n",
    "    \n",
    "    return pd.DataFrame(metrics_dict)"
   ]
  },
  {
   "cell_type": "markdown",
   "metadata": {},
   "source": [
    "# `4.` MAIN PROGRAM"
   ]
  },
  {
   "cell_type": "code",
   "execution_count": 20,
   "metadata": {},
   "outputs": [],
   "source": [
    "# initialize our list of hyper-parameters to be tested\n",
    "ma_depth = [3, 4, 5]\n",
    "mi_s_split = [0.05, 0.1, 0.3]\n",
    "mi_s_leaf = [0.01, 0.05, 0.15]\n",
    "ma_features = [3, 6, 7, 9]\n",
    "ma_l_nodes = [2, 3]\n",
    "cpp_alpha = [0.001, 0.01]"
   ]
  },
  {
   "cell_type": "markdown",
   "metadata": {},
   "source": [
    "### `4.0` Load data into memory then split it"
   ]
  },
  {
   "cell_type": "code",
   "execution_count": 21,
   "metadata": {},
   "outputs": [
    {
     "name": "stdout",
     "output_type": "stream",
     "text": [
      "<class 'pandas.core.frame.DataFrame'>\n",
      "RangeIndex: 32561 entries, 0 to 32560\n",
      "Data columns (total 14 columns):\n",
      " #   Column          Non-Null Count  Dtype \n",
      "---  ------          --------------  ----- \n",
      " 0   age             32561 non-null  int64 \n",
      " 1   workclass       32561 non-null  object\n",
      " 2   fnlwgt          32561 non-null  int64 \n",
      " 3   education.num   32561 non-null  int64 \n",
      " 4   marital.status  32561 non-null  object\n",
      " 5   occupation      32561 non-null  object\n",
      " 6   relationship    32561 non-null  object\n",
      " 7   race            32561 non-null  object\n",
      " 8   sex             32561 non-null  object\n",
      " 9   capital.gain    32561 non-null  int64 \n",
      " 10  capital.loss    32561 non-null  int64 \n",
      " 11  hours.per.week  32561 non-null  int64 \n",
      " 12  native.country  32561 non-null  object\n",
      " 13  income          32561 non-null  object\n",
      "dtypes: int64(6), object(8)\n",
      "memory usage: 3.5+ MB\n"
     ]
    }
   ],
   "source": [
    "raw_data = pd.read_csv('adult.csv').drop(columns=['education'])\n",
    "#raw_data['income'] = np.where(raw_data['income'] == '<=50K', 0, 1) # '<=50K' => 0, '>50K' => 1\n",
    "X_train, X_val, y_train, y_val = train_test_split(raw_data.iloc[:, :-1], raw_data.iloc[:, [-1]], test_size=0.2, stratify=raw_data.iloc[:, [-1]], random_state=2022)\n",
    "raw_data.info() # no nulls"
   ]
  },
  {
   "cell_type": "markdown",
   "metadata": {},
   "source": [
    "### `4.1` Plotting Histogram for each columns"
   ]
  },
  {
   "cell_type": "code",
   "execution_count": 22,
   "metadata": {
    "scrolled": true
   },
   "outputs": [
    {
     "data": {
      "image/png": "[encoded data removed]",
      "text/plain": [
       "<Figure size 720x720 with 6 Axes>"
      ]
     },
     "metadata": {
      "needs_background": "light"
     },
     "output_type": "display_data"
    }
   ],
   "source": [
    "raw_data.hist(bins=50, figsize=(10, 10))\n",
    "plt.tight_layout()\n",
    "plt.show()"
   ]
  },
  {
   "cell_type": "markdown",
   "metadata": {},
   "source": [
    "### `4.2` Check Im-balanced"
   ]
  },
  {
   "cell_type": "code",
   "execution_count": 23,
   "metadata": {
    "scrolled": true
   },
   "outputs": [
    {
     "name": "stdout",
     "output_type": "stream",
     "text": [
      "  income        %\n",
      "0  <=50K  0.75919\n",
      "1   >50K  0.24081\n"
     ]
    },
    {
     "data": {
      "image/png": "[encoded data removed]",
      "text/plain": [
       "<Figure size 432x288 with 1 Axes>"
      ]
     },
     "metadata": {
      "needs_background": "light"
     },
     "output_type": "display_data"
    }
   ],
   "source": [
    "print(((raw_data.iloc[:, -1].value_counts())/raw_data.shape[0]).reset_index().rename(columns={'index': 'income', 'income': '%'}))\n",
    "raw_data.iloc[:, -1].hist(bins=2)\n",
    "plt.show()"
   ]
  },
  {
   "cell_type": "markdown",
   "metadata": {},
   "source": [
    "## `4.3` Data-preprocessing without (scalling)"
   ]
  },
  {
   "cell_type": "code",
   "execution_count": 24,
   "metadata": {},
   "outputs": [
    {
     "name": "stdout",
     "output_type": "stream",
     "text": [
      "shape = 26048, total matched 25926\n",
      "shape = 26048, total matched 25289\n",
      "shape = 26048, total matched 25092\n",
      "shape = 26048, total matched 18818\n",
      "shape = 6513, total matched 6492\n",
      "shape = 6513, total matched 6292\n",
      "shape = 6513, total matched 6271\n",
      "shape = 6513, total matched 4735\n",
      "*SK_coeff:             index   sk_coef\n",
      "0             age  0.516330\n",
      "1          fnlwgt  0.546748\n",
      "2   education.num -0.027694\n",
      "3  hours.per.week  0.440920\n"
     ]
    }
   ],
   "source": [
    "X_train_preprocessed_without_scale, X_val_preprocessed_without_scale = data_preprocessing(X_train, y_train, X_val, y_val, \n",
    "                                                                                          out_threshold=1.5, \n",
    "                                                                                          shapiro_threshold=0.01,\n",
    "                                                                                          dup_threshold=.8 , scale=False)"
   ]
  },
  {
   "cell_type": "markdown",
   "metadata": {},
   "source": [
    "### `4.3.0` DecisionTree with default hyper-parameters"
   ]
  },
  {
   "cell_type": "code",
   "execution_count": 25,
   "metadata": {},
   "outputs": [
    {
     "data": {
      "text/html": [
       "<div>\n",
       "<style scoped>\n",
       "    .dataframe tbody tr th:only-of-type {\n",
       "        vertical-align: middle;\n",
       "    }\n",
       "\n",
       "    .dataframe tbody tr th {\n",
       "        vertical-align: top;\n",
       "    }\n",
       "\n",
       "    .dataframe thead th {\n",
       "        text-align: right;\n",
       "    }\n",
       "</style>\n",
       "<table border=\"1\" class=\"dataframe\">\n",
       "  <thead>\n",
       "    <tr style=\"text-align: right;\">\n",
       "      <th></th>\n",
       "      <th>precision_le</th>\n",
       "      <th>precision_g</th>\n",
       "      <th>recall_le</th>\n",
       "      <th>recall_g</th>\n",
       "      <th>f1_score_le</th>\n",
       "      <th>f1_score_g</th>\n",
       "    </tr>\n",
       "  </thead>\n",
       "  <tbody>\n",
       "    <tr>\n",
       "      <th>0</th>\n",
       "      <td>0.849279</td>\n",
       "      <td>0.537245</td>\n",
       "      <td>0.858038</td>\n",
       "      <td>0.51977</td>\n",
       "      <td>0.853636</td>\n",
       "      <td>0.528363</td>\n",
       "    </tr>\n",
       "  </tbody>\n",
       "</table>\n",
       "</div>"
      ],
      "text/plain": [
       "   precision_le  precision_g  recall_le  recall_g  f1_score_le  f1_score_g\n",
       "0      0.849279     0.537245   0.858038   0.51977     0.853636    0.528363"
      ]
     },
     "execution_count": 25,
     "metadata": {},
     "output_type": "execute_result"
    }
   ],
   "source": [
    "default_decision_model = create_decision_tree_model(X_train_preprocessed_without_scale, y_train, default=True)\n",
    "evaluate_decision_tree_model(y_val, X_val_preprocessed_without_scale, default_decision_model)"
   ]
  },
  {
   "cell_type": "markdown",
   "metadata": {},
   "source": [
    "### `4.3.1` DecisionTree GridSearch to get best hyper-parameters"
   ]
  },
  {
   "cell_type": "code",
   "execution_count": 26,
   "metadata": {
    "scrolled": true
   },
   "outputs": [
    {
     "data": {
      "text/html": [
       "<div>\n",
       "<style scoped>\n",
       "    .dataframe tbody tr th:only-of-type {\n",
       "        vertical-align: middle;\n",
       "    }\n",
       "\n",
       "    .dataframe tbody tr th {\n",
       "        vertical-align: top;\n",
       "    }\n",
       "\n",
       "    .dataframe thead th {\n",
       "        text-align: right;\n",
       "    }\n",
       "</style>\n",
       "<table border=\"1\" class=\"dataframe\">\n",
       "  <thead>\n",
       "    <tr style=\"text-align: right;\">\n",
       "      <th></th>\n",
       "      <th>depth</th>\n",
       "      <th>sample_split</th>\n",
       "      <th>sample_leaf</th>\n",
       "      <th>features</th>\n",
       "      <th>leaf_nodes</th>\n",
       "      <th>ccp_alpha</th>\n",
       "      <th>precision_le</th>\n",
       "      <th>recall_le</th>\n",
       "      <th>f1_le</th>\n",
       "      <th>precision_g</th>\n",
       "      <th>recall_g</th>\n",
       "      <th>f1_g</th>\n",
       "    </tr>\n",
       "  </thead>\n",
       "  <tbody>\n",
       "    <tr>\n",
       "      <th>302</th>\n",
       "      <td>5</td>\n",
       "      <td>0.05</td>\n",
       "      <td>0.01</td>\n",
       "      <td>9</td>\n",
       "      <td>3</td>\n",
       "      <td>0.001</td>\n",
       "      <td>0.939626</td>\n",
       "      <td>0.670374</td>\n",
       "      <td>0.782486</td>\n",
       "      <td>0.453936</td>\n",
       "      <td>0.864158</td>\n",
       "      <td>0.595212</td>\n",
       "    </tr>\n",
       "    <tr>\n",
       "      <th>103</th>\n",
       "      <td>3</td>\n",
       "      <td>0.30</td>\n",
       "      <td>0.01</td>\n",
       "      <td>6</td>\n",
       "      <td>3</td>\n",
       "      <td>0.010</td>\n",
       "      <td>0.939626</td>\n",
       "      <td>0.670374</td>\n",
       "      <td>0.782486</td>\n",
       "      <td>0.453936</td>\n",
       "      <td>0.864158</td>\n",
       "      <td>0.595212</td>\n",
       "    </tr>\n",
       "    <tr>\n",
       "      <th>255</th>\n",
       "      <td>4</td>\n",
       "      <td>0.30</td>\n",
       "      <td>0.01</td>\n",
       "      <td>9</td>\n",
       "      <td>3</td>\n",
       "      <td>0.010</td>\n",
       "      <td>0.939626</td>\n",
       "      <td>0.670374</td>\n",
       "      <td>0.782486</td>\n",
       "      <td>0.453936</td>\n",
       "      <td>0.864158</td>\n",
       "      <td>0.595212</td>\n",
       "    </tr>\n",
       "    <tr>\n",
       "      <th>63</th>\n",
       "      <td>3</td>\n",
       "      <td>0.10</td>\n",
       "      <td>0.01</td>\n",
       "      <td>9</td>\n",
       "      <td>3</td>\n",
       "      <td>0.010</td>\n",
       "      <td>0.939626</td>\n",
       "      <td>0.670374</td>\n",
       "      <td>0.782486</td>\n",
       "      <td>0.453936</td>\n",
       "      <td>0.864158</td>\n",
       "      <td>0.595212</td>\n",
       "    </tr>\n",
       "    <tr>\n",
       "      <th>151</th>\n",
       "      <td>4</td>\n",
       "      <td>0.05</td>\n",
       "      <td>0.01</td>\n",
       "      <td>6</td>\n",
       "      <td>3</td>\n",
       "      <td>0.010</td>\n",
       "      <td>0.939626</td>\n",
       "      <td>0.670374</td>\n",
       "      <td>0.782486</td>\n",
       "      <td>0.453936</td>\n",
       "      <td>0.864158</td>\n",
       "      <td>0.595212</td>\n",
       "    </tr>\n",
       "  </tbody>\n",
       "</table>\n",
       "</div>"
      ],
      "text/plain": [
       "     depth  sample_split  sample_leaf  features  leaf_nodes  ccp_alpha  \\\n",
       "302      5          0.05         0.01         9           3      0.001   \n",
       "103      3          0.30         0.01         6           3      0.010   \n",
       "255      4          0.30         0.01         9           3      0.010   \n",
       "63       3          0.10         0.01         9           3      0.010   \n",
       "151      4          0.05         0.01         6           3      0.010   \n",
       "\n",
       "     precision_le  recall_le     f1_le  precision_g  recall_g      f1_g  \n",
       "302      0.939626   0.670374  0.782486     0.453936  0.864158  0.595212  \n",
       "103      0.939626   0.670374  0.782486     0.453936  0.864158  0.595212  \n",
       "255      0.939626   0.670374  0.782486     0.453936  0.864158  0.595212  \n",
       "63       0.939626   0.670374  0.782486     0.453936  0.864158  0.595212  \n",
       "151      0.939626   0.670374  0.782486     0.453936  0.864158  0.595212  "
      ]
     },
     "execution_count": 26,
     "metadata": {},
     "output_type": "execute_result"
    }
   ],
   "source": [
    "decision_trees_model = []\n",
    "for d in ma_depth:\n",
    "    for s_split in mi_s_split:\n",
    "        for s_leaf in mi_s_leaf:\n",
    "            for nfeatures in ma_features:\n",
    "                for l_node in ma_l_nodes:\n",
    "                    for a in cpp_alpha:\n",
    "                        decision_trees_model.append(create_decision_tree_model(X_train_preprocessed_without_scale, y_train, d, s_split,\n",
    "                                                                            s_leaf, nfeatures, l_node, a, default=False))\n",
    "                        \n",
    "decision_trees_metrics = evaluate_trees_models(y_val, X_val_preprocessed_without_scale, decision_trees_model)\n",
    "decision_trees_metrics.sort_values(by=['f1_g'], ascending=False).head(5)"
   ]
  },
  {
   "cell_type": "markdown",
   "metadata": {},
   "source": [
    "## `4.4` Data-preprocessing with (handle skew, clamp-outliers, and scalling)"
   ]
  },
  {
   "cell_type": "code",
   "execution_count": 27,
   "metadata": {},
   "outputs": [],
   "source": [
    "raw_data = pd.read_csv('adult.csv').drop(columns=['education'])\n",
    "\n",
    "X_train, X_val, y_train, y_val = train_test_split(raw_data.iloc[:, :-1], raw_data.iloc[:, [-1]], test_size=0.2, stratify=raw_data.iloc[:, [-1]], random_state=2022)"
   ]
  },
  {
   "cell_type": "code",
   "execution_count": 28,
   "metadata": {},
   "outputs": [
    {
     "name": "stdout",
     "output_type": "stream",
     "text": [
      "shape = 26048, total matched 25926\n",
      "shape = 26048, total matched 25289\n",
      "shape = 26048, total matched 25092\n",
      "shape = 26048, total matched 18818\n",
      "shape = 6513, total matched 6492\n",
      "shape = 6513, total matched 6292\n",
      "shape = 6513, total matched 6271\n",
      "shape = 6513, total matched 4735\n",
      "*SK_coeff:             index   sk_coef\n",
      "0             age  0.516330\n",
      "1          fnlwgt  0.546748\n",
      "2   education.num -0.027694\n",
      "3  hours.per.week  0.440920\n",
      "########################################################## Q-Q PLOT ##########################################################\n"
     ]
    },
    {
     "data": {
      "image/png": "[encoded data removed]",
      "text/plain": [
       "<Figure size 1440x720 with 6 Axes>"
      ]
     },
     "metadata": {
      "needs_background": "light"
     },
     "output_type": "display_data"
    },
    {
     "name": "stdout",
     "output_type": "stream",
     "text": [
      "##############################################################################################################################\n",
      "* W_Statistic=0.965, p=0.00000000\n",
      "  age does not look Gaussian (reject H0)\n",
      "* W_Statistic=0.965, p=0.00000000\n",
      "  fnlwgt does not look Gaussian (reject H0)\n",
      "* W_Statistic=0.925, p=0.00000000\n",
      "  education.num does not look Gaussian (reject H0)\n",
      "* W_Statistic=0.861, p=0.00000000\n",
      "  hours.per.week does not look Gaussian (reject H0)\n",
      "* Number of features needs min_max = 4, std = 0 according to shapiro-test.\n",
      "* All features did not follow gaussian distribution according to shapiro-test, min-max scalling used.\n"
     ]
    }
   ],
   "source": [
    "X_train_preprocessed, X_val_preprocessed = data_preprocessing(X_train, y_train, X_val, y_val, \n",
    "                                                              out_threshold=1.5, \n",
    "                                                              shapiro_threshold=0.01,\n",
    "                                                              dup_threshold=.8)"
   ]
  },
  {
   "cell_type": "markdown",
   "metadata": {},
   "source": [
    "### `4.4.0` DecisionTree with default hyper-parameters"
   ]
  },
  {
   "cell_type": "code",
   "execution_count": 29,
   "metadata": {},
   "outputs": [
    {
     "data": {
      "text/html": [
       "<div>\n",
       "<style scoped>\n",
       "    .dataframe tbody tr th:only-of-type {\n",
       "        vertical-align: middle;\n",
       "    }\n",
       "\n",
       "    .dataframe tbody tr th {\n",
       "        vertical-align: top;\n",
       "    }\n",
       "\n",
       "    .dataframe thead th {\n",
       "        text-align: right;\n",
       "    }\n",
       "</style>\n",
       "<table border=\"1\" class=\"dataframe\">\n",
       "  <thead>\n",
       "    <tr style=\"text-align: right;\">\n",
       "      <th></th>\n",
       "      <th>precision_le</th>\n",
       "      <th>precision_g</th>\n",
       "      <th>recall_le</th>\n",
       "      <th>recall_g</th>\n",
       "      <th>f1_score_le</th>\n",
       "      <th>f1_score_g</th>\n",
       "    </tr>\n",
       "  </thead>\n",
       "  <tbody>\n",
       "    <tr>\n",
       "      <th>0</th>\n",
       "      <td>0.84976</td>\n",
       "      <td>0.537804</td>\n",
       "      <td>0.857836</td>\n",
       "      <td>0.521684</td>\n",
       "      <td>0.853779</td>\n",
       "      <td>0.529621</td>\n",
       "    </tr>\n",
       "  </tbody>\n",
       "</table>\n",
       "</div>"
      ],
      "text/plain": [
       "   precision_le  precision_g  recall_le  recall_g  f1_score_le  f1_score_g\n",
       "0       0.84976     0.537804   0.857836  0.521684     0.853779    0.529621"
      ]
     },
     "execution_count": 29,
     "metadata": {},
     "output_type": "execute_result"
    }
   ],
   "source": [
    "default_decision_model = create_decision_tree_model(X_train_preprocessed, y_train, default=True)\n",
    "evaluate_decision_tree_model(y_val, X_val_preprocessed, default_decision_model)"
   ]
  },
  {
   "cell_type": "markdown",
   "metadata": {},
   "source": [
    "### `4.4.1` DecisionTree GridSearch to get best hyper-parameters"
   ]
  },
  {
   "cell_type": "code",
   "execution_count": 30,
   "metadata": {
    "scrolled": false
   },
   "outputs": [
    {
     "data": {
      "text/html": [
       "<div>\n",
       "<style scoped>\n",
       "    .dataframe tbody tr th:only-of-type {\n",
       "        vertical-align: middle;\n",
       "    }\n",
       "\n",
       "    .dataframe tbody tr th {\n",
       "        vertical-align: top;\n",
       "    }\n",
       "\n",
       "    .dataframe thead th {\n",
       "        text-align: right;\n",
       "    }\n",
       "</style>\n",
       "<table border=\"1\" class=\"dataframe\">\n",
       "  <thead>\n",
       "    <tr style=\"text-align: right;\">\n",
       "      <th></th>\n",
       "      <th>depth</th>\n",
       "      <th>sample_split</th>\n",
       "      <th>sample_leaf</th>\n",
       "      <th>features</th>\n",
       "      <th>leaf_nodes</th>\n",
       "      <th>ccp_alpha</th>\n",
       "      <th>precision_le</th>\n",
       "      <th>recall_le</th>\n",
       "      <th>f1_le</th>\n",
       "      <th>precision_g</th>\n",
       "      <th>recall_g</th>\n",
       "      <th>f1_g</th>\n",
       "    </tr>\n",
       "  </thead>\n",
       "  <tbody>\n",
       "    <tr>\n",
       "      <th>302</th>\n",
       "      <td>5</td>\n",
       "      <td>0.05</td>\n",
       "      <td>0.01</td>\n",
       "      <td>9</td>\n",
       "      <td>3</td>\n",
       "      <td>0.001</td>\n",
       "      <td>0.939626</td>\n",
       "      <td>0.670374</td>\n",
       "      <td>0.782486</td>\n",
       "      <td>0.453936</td>\n",
       "      <td>0.864158</td>\n",
       "      <td>0.595212</td>\n",
       "    </tr>\n",
       "    <tr>\n",
       "      <th>103</th>\n",
       "      <td>3</td>\n",
       "      <td>0.30</td>\n",
       "      <td>0.01</td>\n",
       "      <td>6</td>\n",
       "      <td>3</td>\n",
       "      <td>0.010</td>\n",
       "      <td>0.939626</td>\n",
       "      <td>0.670374</td>\n",
       "      <td>0.782486</td>\n",
       "      <td>0.453936</td>\n",
       "      <td>0.864158</td>\n",
       "      <td>0.595212</td>\n",
       "    </tr>\n",
       "    <tr>\n",
       "      <th>255</th>\n",
       "      <td>4</td>\n",
       "      <td>0.30</td>\n",
       "      <td>0.01</td>\n",
       "      <td>9</td>\n",
       "      <td>3</td>\n",
       "      <td>0.010</td>\n",
       "      <td>0.939626</td>\n",
       "      <td>0.670374</td>\n",
       "      <td>0.782486</td>\n",
       "      <td>0.453936</td>\n",
       "      <td>0.864158</td>\n",
       "      <td>0.595212</td>\n",
       "    </tr>\n",
       "    <tr>\n",
       "      <th>63</th>\n",
       "      <td>3</td>\n",
       "      <td>0.10</td>\n",
       "      <td>0.01</td>\n",
       "      <td>9</td>\n",
       "      <td>3</td>\n",
       "      <td>0.010</td>\n",
       "      <td>0.939626</td>\n",
       "      <td>0.670374</td>\n",
       "      <td>0.782486</td>\n",
       "      <td>0.453936</td>\n",
       "      <td>0.864158</td>\n",
       "      <td>0.595212</td>\n",
       "    </tr>\n",
       "    <tr>\n",
       "      <th>151</th>\n",
       "      <td>4</td>\n",
       "      <td>0.05</td>\n",
       "      <td>0.01</td>\n",
       "      <td>6</td>\n",
       "      <td>3</td>\n",
       "      <td>0.010</td>\n",
       "      <td>0.939626</td>\n",
       "      <td>0.670374</td>\n",
       "      <td>0.782486</td>\n",
       "      <td>0.453936</td>\n",
       "      <td>0.864158</td>\n",
       "      <td>0.595212</td>\n",
       "    </tr>\n",
       "  </tbody>\n",
       "</table>\n",
       "</div>"
      ],
      "text/plain": [
       "     depth  sample_split  sample_leaf  features  leaf_nodes  ccp_alpha  \\\n",
       "302      5          0.05         0.01         9           3      0.001   \n",
       "103      3          0.30         0.01         6           3      0.010   \n",
       "255      4          0.30         0.01         9           3      0.010   \n",
       "63       3          0.10         0.01         9           3      0.010   \n",
       "151      4          0.05         0.01         6           3      0.010   \n",
       "\n",
       "     precision_le  recall_le     f1_le  precision_g  recall_g      f1_g  \n",
       "302      0.939626   0.670374  0.782486     0.453936  0.864158  0.595212  \n",
       "103      0.939626   0.670374  0.782486     0.453936  0.864158  0.595212  \n",
       "255      0.939626   0.670374  0.782486     0.453936  0.864158  0.595212  \n",
       "63       0.939626   0.670374  0.782486     0.453936  0.864158  0.595212  \n",
       "151      0.939626   0.670374  0.782486     0.453936  0.864158  0.595212  "
      ]
     },
     "execution_count": 30,
     "metadata": {},
     "output_type": "execute_result"
    }
   ],
   "source": [
    "decision_trees_model = []\n",
    "for d in ma_depth:\n",
    "    for s_split in mi_s_split:\n",
    "        for s_leaf in mi_s_leaf:\n",
    "            for nfeatures in ma_features:\n",
    "                for l_node in ma_l_nodes:\n",
    "                    for a in cpp_alpha:\n",
    "                        decision_trees_model.append(create_decision_tree_model(X_train_preprocessed, y_train, d, s_split,\n",
    "                                                                            s_leaf, nfeatures, l_node, a, default=False))\n",
    "                        \n",
    "decision_trees_metrics = evaluate_trees_models(y_val, X_val_preprocessed, decision_trees_model)\n",
    "decision_trees_metrics.sort_values(by=['f1_g'], ascending=False).head(5)"
   ]
  },
  {
   "cell_type": "markdown",
   "metadata": {},
   "source": [
    "### `4.4.2` Plot tree for the best DecisionTree"
   ]
  },
  {
   "cell_type": "code",
   "execution_count": 31,
   "metadata": {},
   "outputs": [
    {
     "data": {
      "image/png": "[encoded data removed]",
      "text/plain": [
       "<Figure size 432x288 with 1 Axes>"
      ]
     },
     "metadata": {
      "needs_background": "light"
     },
     "output_type": "display_data"
    }
   ],
   "source": [
    "tree.plot_tree(decision_trees_model[302], filled=True);"
   ]
  },
  {
   "cell_type": "markdown",
   "metadata": {},
   "source": [
    "## `4.5` Using RandomForestClassifier"
   ]
  },
  {
   "cell_type": "code",
   "execution_count": 32,
   "metadata": {},
   "outputs": [],
   "source": [
    "n_estimators = [10, 50, 100]"
   ]
  },
  {
   "cell_type": "code",
   "execution_count": 33,
   "metadata": {},
   "outputs": [
    {
     "data": {
      "text/html": [
       "<div>\n",
       "<style scoped>\n",
       "    .dataframe tbody tr th:only-of-type {\n",
       "        vertical-align: middle;\n",
       "    }\n",
       "\n",
       "    .dataframe tbody tr th {\n",
       "        vertical-align: top;\n",
       "    }\n",
       "\n",
       "    .dataframe thead th {\n",
       "        text-align: right;\n",
       "    }\n",
       "</style>\n",
       "<table border=\"1\" class=\"dataframe\">\n",
       "  <thead>\n",
       "    <tr style=\"text-align: right;\">\n",
       "      <th></th>\n",
       "      <th>depth</th>\n",
       "      <th>sample_split</th>\n",
       "      <th>sample_leaf</th>\n",
       "      <th>features</th>\n",
       "      <th>leaf_nodes</th>\n",
       "      <th>ccp_alpha</th>\n",
       "      <th>precision_le</th>\n",
       "      <th>recall_le</th>\n",
       "      <th>f1_le</th>\n",
       "      <th>precision_g</th>\n",
       "      <th>recall_g</th>\n",
       "      <th>f1_g</th>\n",
       "      <th>n_estimators</th>\n",
       "    </tr>\n",
       "  </thead>\n",
       "  <tbody>\n",
       "    <tr>\n",
       "      <th>726</th>\n",
       "      <td>4</td>\n",
       "      <td>0.3</td>\n",
       "      <td>0.01</td>\n",
       "      <td>3</td>\n",
       "      <td>3</td>\n",
       "      <td>0.001</td>\n",
       "      <td>0.923975</td>\n",
       "      <td>0.720121</td>\n",
       "      <td>0.80941</td>\n",
       "      <td>0.479504</td>\n",
       "      <td>0.813138</td>\n",
       "      <td>0.603265</td>\n",
       "      <td>10</td>\n",
       "    </tr>\n",
       "    <tr>\n",
       "      <th>297</th>\n",
       "      <td>3</td>\n",
       "      <td>0.3</td>\n",
       "      <td>0.01</td>\n",
       "      <td>3</td>\n",
       "      <td>3</td>\n",
       "      <td>0.010</td>\n",
       "      <td>0.923975</td>\n",
       "      <td>0.720121</td>\n",
       "      <td>0.80941</td>\n",
       "      <td>0.479504</td>\n",
       "      <td>0.813138</td>\n",
       "      <td>0.603265</td>\n",
       "      <td>10</td>\n",
       "    </tr>\n",
       "    <tr>\n",
       "      <th>294</th>\n",
       "      <td>3</td>\n",
       "      <td>0.3</td>\n",
       "      <td>0.01</td>\n",
       "      <td>3</td>\n",
       "      <td>3</td>\n",
       "      <td>0.001</td>\n",
       "      <td>0.923975</td>\n",
       "      <td>0.720121</td>\n",
       "      <td>0.80941</td>\n",
       "      <td>0.479504</td>\n",
       "      <td>0.813138</td>\n",
       "      <td>0.603265</td>\n",
       "      <td>10</td>\n",
       "    </tr>\n",
       "    <tr>\n",
       "      <th>1158</th>\n",
       "      <td>5</td>\n",
       "      <td>0.3</td>\n",
       "      <td>0.01</td>\n",
       "      <td>3</td>\n",
       "      <td>3</td>\n",
       "      <td>0.001</td>\n",
       "      <td>0.923975</td>\n",
       "      <td>0.720121</td>\n",
       "      <td>0.80941</td>\n",
       "      <td>0.479504</td>\n",
       "      <td>0.813138</td>\n",
       "      <td>0.603265</td>\n",
       "      <td>10</td>\n",
       "    </tr>\n",
       "    <tr>\n",
       "      <th>729</th>\n",
       "      <td>4</td>\n",
       "      <td>0.3</td>\n",
       "      <td>0.01</td>\n",
       "      <td>3</td>\n",
       "      <td>3</td>\n",
       "      <td>0.010</td>\n",
       "      <td>0.923975</td>\n",
       "      <td>0.720121</td>\n",
       "      <td>0.80941</td>\n",
       "      <td>0.479504</td>\n",
       "      <td>0.813138</td>\n",
       "      <td>0.603265</td>\n",
       "      <td>10</td>\n",
       "    </tr>\n",
       "  </tbody>\n",
       "</table>\n",
       "</div>"
      ],
      "text/plain": [
       "      depth  sample_split  sample_leaf  features  leaf_nodes  ccp_alpha  \\\n",
       "726       4           0.3         0.01         3           3      0.001   \n",
       "297       3           0.3         0.01         3           3      0.010   \n",
       "294       3           0.3         0.01         3           3      0.001   \n",
       "1158      5           0.3         0.01         3           3      0.001   \n",
       "729       4           0.3         0.01         3           3      0.010   \n",
       "\n",
       "      precision_le  recall_le    f1_le  precision_g  recall_g      f1_g  \\\n",
       "726       0.923975   0.720121  0.80941     0.479504  0.813138  0.603265   \n",
       "297       0.923975   0.720121  0.80941     0.479504  0.813138  0.603265   \n",
       "294       0.923975   0.720121  0.80941     0.479504  0.813138  0.603265   \n",
       "1158      0.923975   0.720121  0.80941     0.479504  0.813138  0.603265   \n",
       "729       0.923975   0.720121  0.80941     0.479504  0.813138  0.603265   \n",
       "\n",
       "      n_estimators  \n",
       "726             10  \n",
       "297             10  \n",
       "294             10  \n",
       "1158            10  \n",
       "729             10  "
      ]
     },
     "execution_count": 33,
     "metadata": {},
     "output_type": "execute_result"
    }
   ],
   "source": [
    "random_forest_models = []\n",
    "for d in ma_depth:\n",
    "    for s_split in mi_s_split:\n",
    "        for s_leaf in mi_s_leaf:\n",
    "            for nfeatures in ma_features:\n",
    "                for l_node in ma_l_nodes:\n",
    "                    for a in cpp_alpha:\n",
    "                        for n_estimator in n_estimators:\n",
    "                            random_model = RandomForestClassifier(n_estimators=n_estimator, max_depth=d, min_samples_split=s_split,\n",
    "                                                   min_samples_leaf=s_leaf, max_features=nfeatures, max_leaf_nodes=l_node, \n",
    "                                                   bootstrap=True, n_jobs=-1, random_state=2022, class_weight='balanced', ccp_alpha=a)\n",
    "                            random_forest_models.append(random_model.fit(X_train_preprocessed, y_train))\n",
    "                        \n",
    "random_forest_metrics = evaluate_trees_models(y_val, X_val_preprocessed, random_forest_models, 'random')\n",
    "random_forest_metrics.sort_values(by=['f1_g'], ascending=False).head(5)"
   ]
  },
  {
   "cell_type": "markdown",
   "metadata": {},
   "source": [
    "## `4.6` Using KNeighborsClassifier"
   ]
  },
  {
   "cell_type": "code",
   "execution_count": 34,
   "metadata": {},
   "outputs": [],
   "source": [
    "# initialize our hyper-parameters lists\n",
    "p_values = [1, 2, 3]\n",
    "n_neighbors = [2, 3, 5, 6]\n",
    "weights = ['uniform', 'distance']"
   ]
  },
  {
   "cell_type": "code",
   "execution_count": 35,
   "metadata": {},
   "outputs": [
    {
     "name": "stdout",
     "output_type": "stream",
     "text": [
      "* rare class ('>50K'): 0.2408\n",
      "* dominant class ('<=50K'): 0.7592\n"
     ]
    }
   ],
   "source": [
    "# show each class percentage\n",
    "print(f\"* rare class ('>50K'): {(raw_data['income']=='>50K').mean().round(4)}\")\n",
    "print(f\"* dominant class ('<=50K'): {(raw_data['income']=='<=50K').mean().round(4)}\")"
   ]
  },
  {
   "cell_type": "code",
   "execution_count": 36,
   "metadata": {},
   "outputs": [
    {
     "data": {
      "text/plain": [
       "((13194, 13), (13194, 1))"
      ]
     },
     "execution_count": 36,
     "metadata": {},
     "output_type": "execute_result"
    }
   ],
   "source": [
    "# spliting then undersampling\n",
    "X_train, X_val, y_train, y_val = train_test_split(raw_data.iloc[:, :-1], raw_data.iloc[:, [-1]], \n",
    "                                                  test_size=0.2, stratify=raw_data.iloc[:, [-1]], random_state=2022)\n",
    "\n",
    "rare_class = X_train.loc[(y_train=='>50K').values, :]\n",
    "dominant_class = X_train.loc[(y_train=='<=50K').values, :]\n",
    "\n",
    "under_sampled_class = dominant_class.sample(frac=0.35, replace=False, random_state=2022)\n",
    "X_train_undersampled = pd.concat((under_sampled_class, rare_class), axis=0)\n",
    "y_train_undersampled = y_train.loc[X_train_undersampled.index, :]\n",
    "X_train_undersampled.shape, y_train_undersampled.shape"
   ]
  },
  {
   "cell_type": "code",
   "execution_count": 37,
   "metadata": {},
   "outputs": [
    {
     "name": "stdout",
     "output_type": "stream",
     "text": [
      "shape = 13194, total matched 13140\n",
      "shape = 13194, total matched 12809\n",
      "shape = 13194, total matched 13114\n",
      "shape = 13194, total matched 11389\n",
      "shape = 6513, total matched 6488\n",
      "shape = 6513, total matched 6282\n",
      "shape = 6513, total matched 6479\n",
      "shape = 6513, total matched 5517\n",
      "*SK_coeff:             index   sk_coef\n",
      "0             age  0.361842\n",
      "1          fnlwgt  0.550586\n",
      "2   education.num -0.258166\n",
      "3  hours.per.week  0.436611\n",
      "########################################################## Q-Q PLOT ##########################################################\n"
     ]
    },
    {
     "data": {
      "image/png": "[encoded data removed]",
      "text/plain": [
       "<Figure size 1440x720 with 6 Axes>"
      ]
     },
     "metadata": {
      "needs_background": "light"
     },
     "output_type": "display_data"
    },
    {
     "name": "stdout",
     "output_type": "stream",
     "text": [
      "##############################################################################################################################\n",
      "* W_Statistic=0.983, p=0.00000000\n",
      "  age does not look Gaussian (reject H0)\n",
      "* W_Statistic=0.967, p=0.00000000\n",
      "  fnlwgt does not look Gaussian (reject H0)\n",
      "* W_Statistic=0.925, p=0.00000000\n",
      "  education.num does not look Gaussian (reject H0)\n",
      "* W_Statistic=0.890, p=0.00000000\n",
      "  hours.per.week does not look Gaussian (reject H0)\n",
      "* Number of features needs min_max = 4, std = 0 according to shapiro-test.\n",
      "* All features did not follow gaussian distribution according to shapiro-test, min-max scalling used.\n"
     ]
    }
   ],
   "source": [
    "# preprocessing for KNN\n",
    "X_train_preprocessed, X_val_preprocessed = data_preprocessing(X_train_undersampled, y_train_undersampled, X_val, y_val, \n",
    "                                                              out_threshold=1.5, \n",
    "                                                              shapiro_threshold=0.01,\n",
    "                                                              dup_threshold=.8)"
   ]
  },
  {
   "cell_type": "code",
   "execution_count": 38,
   "metadata": {},
   "outputs": [
    {
     "data": {
      "text/html": [
       "<div>\n",
       "<style scoped>\n",
       "    .dataframe tbody tr th:only-of-type {\n",
       "        vertical-align: middle;\n",
       "    }\n",
       "\n",
       "    .dataframe tbody tr th {\n",
       "        vertical-align: top;\n",
       "    }\n",
       "\n",
       "    .dataframe thead th {\n",
       "        text-align: right;\n",
       "    }\n",
       "</style>\n",
       "<table border=\"1\" class=\"dataframe\">\n",
       "  <thead>\n",
       "    <tr style=\"text-align: right;\">\n",
       "      <th></th>\n",
       "      <th>p</th>\n",
       "      <th>n_neighbors</th>\n",
       "      <th>weight</th>\n",
       "      <th>precision_le</th>\n",
       "      <th>recall_le</th>\n",
       "      <th>f1_le</th>\n",
       "      <th>precision_g</th>\n",
       "      <th>recall_g</th>\n",
       "      <th>f1_g</th>\n",
       "    </tr>\n",
       "  </thead>\n",
       "  <tbody>\n",
       "    <tr>\n",
       "      <th>6</th>\n",
       "      <td>1</td>\n",
       "      <td>6</td>\n",
       "      <td>uniform</td>\n",
       "      <td>0.911378</td>\n",
       "      <td>0.813145</td>\n",
       "      <td>0.859464</td>\n",
       "      <td>0.560209</td>\n",
       "      <td>0.750638</td>\n",
       "      <td>0.641592</td>\n",
       "    </tr>\n",
       "    <tr>\n",
       "      <th>14</th>\n",
       "      <td>2</td>\n",
       "      <td>6</td>\n",
       "      <td>uniform</td>\n",
       "      <td>0.907838</td>\n",
       "      <td>0.812740</td>\n",
       "      <td>0.857661</td>\n",
       "      <td>0.556088</td>\n",
       "      <td>0.739796</td>\n",
       "      <td>0.634921</td>\n",
       "    </tr>\n",
       "    <tr>\n",
       "      <th>4</th>\n",
       "      <td>1</td>\n",
       "      <td>5</td>\n",
       "      <td>uniform</td>\n",
       "      <td>0.925600</td>\n",
       "      <td>0.764813</td>\n",
       "      <td>0.837560</td>\n",
       "      <td>0.520808</td>\n",
       "      <td>0.806122</td>\n",
       "      <td>0.632791</td>\n",
       "    </tr>\n",
       "    <tr>\n",
       "      <th>22</th>\n",
       "      <td>3</td>\n",
       "      <td>6</td>\n",
       "      <td>uniform</td>\n",
       "      <td>0.906420</td>\n",
       "      <td>0.810920</td>\n",
       "      <td>0.856015</td>\n",
       "      <td>0.552417</td>\n",
       "      <td>0.735969</td>\n",
       "      <td>0.631118</td>\n",
       "    </tr>\n",
       "    <tr>\n",
       "      <th>12</th>\n",
       "      <td>2</td>\n",
       "      <td>5</td>\n",
       "      <td>uniform</td>\n",
       "      <td>0.926145</td>\n",
       "      <td>0.760768</td>\n",
       "      <td>0.835350</td>\n",
       "      <td>0.517340</td>\n",
       "      <td>0.808673</td>\n",
       "      <td>0.631003</td>\n",
       "    </tr>\n",
       "  </tbody>\n",
       "</table>\n",
       "</div>"
      ],
      "text/plain": [
       "    p  n_neighbors   weight  precision_le  recall_le     f1_le  precision_g  \\\n",
       "6   1            6  uniform      0.911378   0.813145  0.859464     0.560209   \n",
       "14  2            6  uniform      0.907838   0.812740  0.857661     0.556088   \n",
       "4   1            5  uniform      0.925600   0.764813  0.837560     0.520808   \n",
       "22  3            6  uniform      0.906420   0.810920  0.856015     0.552417   \n",
       "12  2            5  uniform      0.926145   0.760768  0.835350     0.517340   \n",
       "\n",
       "    recall_g      f1_g  \n",
       "6   0.750638  0.641592  \n",
       "14  0.739796  0.634921  \n",
       "4   0.806122  0.632791  \n",
       "22  0.735969  0.631118  \n",
       "12  0.808673  0.631003  "
      ]
     },
     "execution_count": 38,
     "metadata": {},
     "output_type": "execute_result"
    }
   ],
   "source": [
    "knn_models = []\n",
    "for p in p_values:\n",
    "    for n in n_neighbors:\n",
    "        for w in weights:\n",
    "            knn_model = KNeighborsClassifier(n_neighbors=n, weights=w, p=p, metric='minkowski', n_jobs=-1)\n",
    "            knn_models.append(knn_model.fit(X_train_preprocessed, y_train_undersampled))\n",
    "\n",
    "knn_metrics = evaluate_knn_models(y_val, X_val_preprocessed, knn_models)\n",
    "knn_metrics.sort_values(by=['f1_g'], ascending=False).head(5)"
   ]
  },
  {
   "cell_type": "markdown",
   "metadata": {},
   "source": [
    "# CONCLUSION\n",
    "1. It is approximately no difference between scaled and non-scaled data\n",
    "2. Using randomforest using (n_estimator) performs slightly better than decision trees.\n",
    "3. Finally the KNN is the best model compared to Trees it outperform trees. 64% compared to 60% with randomforest (f1_score), recall got reduced while precision has increased."
   ]
  },
  {
   "cell_type": "markdown",
   "metadata": {},
   "source": [
    "| n_estimators |  depth  | sample_split | sample_leaf | num_features | leaf_nodes |  alpha  |  prec_g  | recall_g |   f1_g   |       Type      | Scale |\n",
    "|:------------:|:-------:|:------------:|:-----------:|:------------:|:----------:|:-------:|:--------:|:--------:|:--------:|:---------------:|:-----:|\n",
    "|      --      | default |    default   |   default   |    default   |   default  | default | 0.537245 |  0.51977 | 0.528363 |   DecisionTree  | False |\n",
    "|      --      |    5    |     0.05     |     0.01    |       9      |      3     |  0.001  | 0.453936 | 0.864158 | 0.595212 | DT + GridSearch | False |\n",
    "|      --      | default |    default   |   default   |    default   |   default  | default | 0.537804 | 0.521684 | 0.529621 |   DecisionTree  |  True |\n",
    "|      --      |    5    |     0.05     |     0.01    |       9      |      3     |  0.001  | 0.453936 | 0.864158 | 0.595212 | DT + GridSearch |  True |\n",
    "|      10      |    4    |      0.3     |     0.01    |       3      |      3     |  0.001  | 0.479504 | 0.813138 | 0.603265 | RF + GridSearch |  True |"
   ]
  },
  {
   "cell_type": "markdown",
   "metadata": {},
   "source": [
    "| n_neighbors | p_value |  weight |  prec_g  | recall_g |   f1_g   | Type | Scale |\n",
    "|:-----------:|:-------:|:-------:|:--------:|:--------:|:--------:|:----:|:-----:|\n",
    "|      6      |    1    | uniform | 0.560209 | 0.750638 | 0.641592 |  KNN |  True |"
   ]
  },
  {
   "cell_type": "code",
   "execution_count": null,
   "metadata": {},
   "outputs": [],
   "source": []
  }
 ],
 "metadata": {
  "kernelspec": {
   "display_name": "Python 3",
   "language": "python",
   "name": "python3"
  },
  "language_info": {
   "codemirror_mode": {
    "name": "ipython",
    "version": 3
   },
   "file_extension": ".py",
   "mimetype": "text/x-python",
   "name": "python",
   "nbconvert_exporter": "python",
   "pygments_lexer": "ipython3",
   "version": "3.8.5"
  }
 },
 "nbformat": 4,
 "nbformat_minor": 4
}
